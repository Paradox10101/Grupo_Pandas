{
 "cells": [
  {
   "cell_type": "code",
   "execution_count": 2,
   "metadata": {},
   "outputs": [],
   "source": [
    "from ultralytics import YOLO"
   ]
  },
  {
   "cell_type": "code",
   "execution_count": null,
   "metadata": {},
   "outputs": [],
   "source": [
    "# Load the trained model\n",
    "model.save(\"best_model.pt\")\n",
    "\n",
    "results = model(\"botella.jpg\")  # predecir una imagen\n",
    "path = model.export(format=\"onnx\")  #  Exportamos el modelo a formato ONNX"
   ]
  },
  {
   "cell_type": "code",
   "execution_count": null,
   "metadata": {},
   "outputs": [],
   "source": [
    "path = model.export(format=\"onnx\", name=\"mi_modelo_entrenado20.onnx\")  # exportar el modelo a formato ONNX con el nombre mi_modelo_entrenado20.onnx\n",
    "print(f\"Modelo exportado a: {path}\") # Model exported to: mi_modelo_entrenado20.onnx"
   ]
  },
  {
   "cell_type": "markdown",
   "metadata": {},
   "source": [
    "## Metricas"
   ]
  },
  {
   "cell_type": "code",
   "execution_count": null,
   "metadata": {},
   "outputs": [],
   "source": [
    "import json\n",
    "# Evaluar el rendimiento del modelo en el conjunto de validación\n",
    "\n",
    "metrics = model.val()\n",
    "\n",
    "# Imprimir las métricas\n",
    "print(\"Métricas de evaluación:\")\n",
    "for metric, value in metrics.items():\n",
    "    print(f\"{metric}: {value}\")\n",
    "\n",
    "# Guardar las métricas en un archivo JSON\n",
    "with open(\"metrics.json\", \"w\") as f:\n",
    "    json.dump(metrics, f, indent=4)\n",
    "\n",
    "print(\"Métricas guardadas en metrics.json\")"
   ]
  },
  {
   "cell_type": "code",
   "execution_count": null,
   "metadata": {},
   "outputs": [],
   "source": [
    "import matplotlib.pyplot as plt\n",
    "import cv2\n",
    "results = model(\"pa.jpg\")  # predict on an image, cambiar onmbre de la imagen\n",
    "# Asegúrate de que 'results' no esté vacío y es del tipo esperado\n",
    "if results and isinstance(results, list):\n",
    "    for result in results:\n",
    "        # Renderizar la imagen con las predicciones\n",
    "        img_with_boxes = result.plot()\n",
    "\n",
    "        # Convertir la imagen de BGR a RGB (si es necesario)\n",
    "        img_with_boxes_rgb = cv2.cvtColor(img_with_boxes, cv2.COLOR_BGR2RGB)\n",
    "\n",
    "        # Mostrar la imagen\n",
    "        plt.imshow(img_with_boxes_rgb)\n",
    "        plt.axis('off')  # Ocultar los ejes\n",
    "        plt.show()\n",
    "else:\n",
    "    print(\"No se encontraron resultados.\")"
   ]
  },
  {
   "cell_type": "code",
   "execution_count": null,
   "metadata": {},
   "outputs": [],
   "source": [
    "import torch\n",
    "\n",
    "# Verifica si una GPU compatible con CUDA está disponible.\n",
    "# Si hay una GPU disponible, establece el dispositivo como 'cuda'.\n",
    "# Si no hay GPU disponible, establece el dispositivo como 'cpu'.\n",
    "device = torch.device(\"cuda\" if torch.cuda.is_available() else \"cpu\")"
   ]
  },
  {
   "cell_type": "code",
   "execution_count": null,
   "metadata": {},
   "outputs": [],
   "source": [
    "# Load a model\n",
    "model = YOLO(\"yolov8n.yaml\")  # crear un nuevo modelo con la configuración de yolov8n.yaml\n",
    "\n",
    "# Use the model\n",
    "model.train(data=\"config.yaml\", epochs=20)  # entrenar el modelo con los datos de config.yaml durante 20 épocas\n",
    "metrics = model.val()  # evaluacion del modelo en el conjunto de validación"
   ]
  },
  {
   "cell_type": "code",
   "execution_count": 17,
   "metadata": {},
   "outputs": [
    {
     "data": {
      "text/plain": [
       "device(type='cuda')"
      ]
     },
     "execution_count": 17,
     "metadata": {},
     "output_type": "execute_result"
    }
   ],
   "source": [
    "device"
   ]
  }
 ],
 "metadata": {
  "kernelspec": {
   "display_name": "Python 3",
   "language": "python",
   "name": "python3"
  },
  "language_info": {
   "codemirror_mode": {
    "name": "ipython",
    "version": 3
   },
   "file_extension": ".py",
   "mimetype": "text/x-python",
   "name": "python",
   "nbconvert_exporter": "python",
   "pygments_lexer": "ipython3",
   "version": "3.11.9"
  }
 },
 "nbformat": 4,
 "nbformat_minor": 2
}
