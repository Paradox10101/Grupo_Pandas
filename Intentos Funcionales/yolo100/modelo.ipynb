{
 "cells": [
  {
   "cell_type": "code",
   "execution_count": 1,
   "metadata": {},
   "outputs": [],
   "source": [
    "from ultralytics import YOLO"
   ]
  },
  {
   "cell_type": "code",
   "execution_count": null,
   "metadata": {},
   "outputs": [],
   "source": [
    "import matplotlib.pyplot as plt\n",
    "import cv2\n",
    "results = model(\"botellas.jpg\")  # predicción de imagen\n",
    "# Asegúrate de que 'results' no esté vacío y es del tipo esperado\n",
    "if results and isinstance(results, list):\n",
    "    for result in results:\n",
    "        # Renderizar la imagen con las predicciones\n",
    "        img_with_boxes = result.plot()\n",
    "\n",
    "        # Convertir la imagen de BGR a RGB (si es necesario)\n",
    "        img_with_boxes_rgb = cv2.cvtColor(img_with_boxes, cv2.COLOR_BGR2RGB)\n",
    "\n",
    "        # Mostrar la imagen\n",
    "        plt.imshow(img_with_boxes_rgb)\n",
    "        plt.axis('off')  # Ocultar los ejes\n",
    "        plt.show()\n",
    "else:\n",
    "    print(\"No se encontraron resultados.\")"
   ]
  },
  {
   "cell_type": "code",
   "execution_count": null,
   "metadata": {},
   "outputs": [],
   "source": [
    "# Cargar modelo\n",
    "model = YOLO(\"yolov8n.yaml\")  # construir modelo desde 0\n",
    "\n",
    "# Utilizar modelo\n",
    "model.train(data=\"config.yaml\", epochs=20)  # entrenamiento del modelo\n",
    "metrics = model.val()  # evaluacion del desarrollo del modelo"
   ]
  },
  {
   "cell_type": "code",
   "execution_count": null,
   "metadata": {},
   "outputs": [],
   "source": [
    "# Cargar el modelo entrenado\n",
    "model = YOLO(\"runs/detect/train/weights/best.pt\")\n"
   ]
  },
  {
   "cell_type": "code",
   "execution_count": null,
   "metadata": {},
   "outputs": [],
   "source": [
    "# Cargar el modelo entrenado\n",
    "model.save(\"runs/detect/train/weights/best.pt\")\n",
    "\n",
    "results = model(\"botella.jpg\")  # predecir una imagen\n",
    "path = model.export(format=\"onnx\")  # exportar el modelo al formato ONNX"
   ]
  },
  {
   "cell_type": "code",
   "execution_count": null,
   "metadata": {},
   "outputs": [],
   "source": [
    "path = model.export(format=\"onnx\", name=\"mi_modelo_entrenado20.onnx\")  # exportar el modelo al formato ONNX\n",
    "print(f\"Modelo exportado a: {path}\")"
   ]
  },
  {
   "cell_type": "markdown",
   "metadata": {},
   "source": [
    "## Metricas"
   ]
  },
  {
   "cell_type": "code",
   "execution_count": null,
   "metadata": {},
   "outputs": [],
   "source": [
    "import json\n",
    "\n",
    "try:\n",
    "    # Evaluar el rendimiento del modelo en el conjunto de validación\n",
    "    metrics = model.val()\n",
    "    \n",
    "    # Imprimir el tipo de datos de metrics\n",
    "    print(f\"Tipo de datos de 'metrics': {type(metrics)}\")\n",
    "    print(f\"Contenido de 'metrics': {metrics}\")\n",
    "\n",
    "    if isinstance(metrics, dict):\n",
    "        # Imprimir las métricas\n",
    "        print(\"Métricas de evaluación:\")\n",
    "        for metric, value in metrics.items():\n",
    "            print(f\"{metric}: {value}\")\n",
    "\n",
    "        # Guardar las métricas en un archivo JSON\n",
    "        with open(\"metrics.json\", \"w\") as f:\n",
    "            json.dump(metrics, f, indent=4)\n",
    "\n",
    "        print(\"Métricas guardadas en metrics.json\")\n",
    "    else:\n",
    "        print(\"El método 'val()' no está retornando un diccionario válido.\")\n",
    "except Exception as e:\n",
    "    print(f\"Error al evaluar el modelo o guardar las métricas: {str(e)}\")"
   ]
  },
  {
   "cell_type": "code",
   "execution_count": null,
   "metadata": {},
   "outputs": [],
   "source": [
    "import json\n",
    "# Evaluar el rendimiento del modelo en el conjunto de validación\n",
    "\n",
    "\n",
    "metrics = model.val() #evaluar desarrollo del modelo\n",
    "\n",
    "# Imprimir las métricas\n",
    "print(\"Métricas de evaluación:\")\n",
    "for metric, value in metrics.items():\n",
    "    print(f\"{metric}: {value}\")\n",
    "\n",
    "# Guardar las métricas en un archivo JSON\n",
    "with open(\"metrics.json\", \"w\") as f:\n",
    "    json.dump(metrics, f, indent=4)\n",
    "\n",
    "print(\"Métricas guardadas en metrics.json\")"
   ]
  },
  {
   "cell_type": "code",
   "execution_count": null,
   "metadata": {},
   "outputs": [],
   "source": [
    "metrics = model.val() # evaluacion del modelo en el conjunto de validacion"
   ]
  },
  {
   "cell_type": "code",
   "execution_count": null,
   "metadata": {},
   "outputs": [],
   "source": [
    "# Guardar las métricas en un archivo\n",
    "with open('training_metrics.txt', 'w') as f:\n",
    "    f.write(str(metrics))"
   ]
  },
  {
   "cell_type": "code",
   "execution_count": null,
   "metadata": {},
   "outputs": [],
   "source": [
    "import json\n",
    "\n",
    "# Cargar las métricas desde el archivo JSON\n",
    "with open('training_metrics.txt', 'r') as f:\n",
    "    metrics = json.load(f)\n",
    "\n",
    "train_loss = metrics['train/loss']\n",
    "val_loss = metrics['val/loss']\n",
    "mAP = metrics['val/mAP_0.5']"
   ]
  },
  {
   "cell_type": "code",
   "execution_count": null,
   "metadata": {},
   "outputs": [],
   "source": [
    "import torch\n",
    "# Verificar si CUDA está disponible\n",
    "device = torch.device(\"cuda\" if torch.cuda.is_available() else \"cpu\")"
   ]
  },
  {
   "cell_type": "code",
   "execution_count": null,
   "metadata": {},
   "outputs": [],
   "source": [
    "device"
   ]
  },
  {
   "cell_type": "markdown",
   "metadata": {},
   "source": [
    "## Con data aumentation"
   ]
  },
  {
   "cell_type": "code",
   "execution_count": null,
   "metadata": {},
   "outputs": [],
   "source": [
    "# Cargar modelo\n",
    "model = YOLO(\"yolov8n.yaml\")  # construir un modelo desde 0\n",
    "\n",
    "# Use the model\n",
    "model.train(data=\"config.yaml\", epochs=20)  # entrenamiento\n",
    "metrics = model.val()  # exportar el modelo al formato ONNX"
   ]
  }
 ],
 "metadata": {
  "kernelspec": {
   "display_name": "Python 3",
   "language": "python",
   "name": "python3"
  },
  "language_info": {
   "codemirror_mode": {
    "name": "ipython",
    "version": 3
   },
   "file_extension": ".py",
   "mimetype": "text/x-python",
   "name": "python",
   "nbconvert_exporter": "python",
   "pygments_lexer": "ipython3",
   "version": "3.11.9"
  }
 },
 "nbformat": 4,
 "nbformat_minor": 2
}
