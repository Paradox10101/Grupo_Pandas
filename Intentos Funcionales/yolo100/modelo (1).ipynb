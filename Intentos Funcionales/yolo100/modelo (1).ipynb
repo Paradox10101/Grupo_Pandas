{
 "cells": [
  {
   "cell_type": "code",
   "execution_count": 1,
   "metadata": {},
   "outputs": [],
   "source": [
    "from ultralytics import YOLO"
   ]
  },
  {
   "cell_type": "code",
   "execution_count": null,
   "metadata": {},
   "outputs": [],
   "source": [
    "# Cargar el modelo\n",
    "model = YOLO(\"yolov8n.yaml\")  # construir un modelo desde 0\n",
    "\n",
    "# Utilizar el modelo\n",
    "model.train(data=\"config.yaml\", epochs=20)  # entrenamiento\n",
    "metrics = model.val()  # Evaluacion de desarrollo"
   ]
  },
  {
   "cell_type": "code",
   "execution_count": null,
   "metadata": {},
   "outputs": [],
   "source": [
    "import json\n",
    "\n",
    "try:\n",
    "    # Evaluar el rendimiento del modelo en el conjunto de validación\n",
    "    metrics = model.val()\n",
    "    \n",
    "    # Imprimir el tipo de datos de metrics\n",
    "    print(f\"Tipo de datos de 'metrics': {type(metrics)}\")\n",
    "    print(f\"Contenido de 'metrics': {metrics}\")\n",
    "\n",
    "    if isinstance(metrics, dict):\n",
    "        # Imprimir las métricas\n",
    "        print(\"Métricas de evaluación:\")\n",
    "        for metric, value in metrics.items():\n",
    "            print(f\"{metric}: {value}\")\n",
    "\n",
    "        # Guardar las métricas en un archivo JSON\n",
    "        with open(\"metrics.json\", \"w\") as f:\n",
    "            json.dump(metrics, f, indent=4)\n",
    "\n",
    "        print(\"Métricas guardadas en metrics.json\")\n",
    "    else:\n",
    "        print(\"El método 'val()' no está retornando un diccionario válido.\")\n",
    "except Exception as e:\n",
    "    print(f\"Error al evaluar el modelo o guardar las métricas: {str(e)}\")\n",
    "\n",
    "\n"
   ]
  },
  {
   "cell_type": "code",
   "execution_count": 2,
   "metadata": {},
   "outputs": [],
   "source": [
    "import torch\n",
    "\n",
    "device = torch.device(\"cuda\" if torch.cuda.is_available() else \"cpu\")"
   ]
  }
 ],
 "metadata": {
  "kernelspec": {
   "display_name": "Python 3",
   "language": "python",
   "name": "python3"
  },
  "language_info": {
   "codemirror_mode": {
    "name": "ipython",
    "version": 3
   },
   "file_extension": ".py",
   "mimetype": "text/x-python",
   "name": "python",
   "nbconvert_exporter": "python",
   "pygments_lexer": "ipython3",
   "version": "3.11.9"
  }
 },
 "nbformat": 4,
 "nbformat_minor": 2
}
